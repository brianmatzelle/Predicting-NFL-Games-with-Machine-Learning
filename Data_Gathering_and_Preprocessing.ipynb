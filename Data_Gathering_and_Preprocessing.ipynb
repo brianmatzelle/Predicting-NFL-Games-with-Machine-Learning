{
 "cells": [
  {
   "cell_type": "markdown",
   "metadata": {},
   "source": [
    "# Data Gathering and Pre-processing\n",
    "\n",
    "Import the required libraries..."
   ]
  },
  {
   "cell_type": "code",
   "execution_count": 3,
   "metadata": {},
   "outputs": [],
   "source": [
    "import csv\n",
    "import pickle\n",
    "import os\n",
    "import pandas as pd\n",
    "import numpy as np\n",
    "import nfl_data_py as nfl"
   ]
  },
  {
   "cell_type": "markdown",
   "metadata": {},
   "source": [
    "## Gathering\n",
    "\n",
    "NFL play by play data found [here](https://github.com/nflverse/nflverse-data/releases/tag/pbp). In this cell we will convert the csv files to pkl files, so they're easier to work with. This part may take a while, as the csv files are pretty big."
   ]
  },
  {
   "cell_type": "code",
   "execution_count": 5,
   "metadata": {},
   "outputs": [
    {
     "name": "stderr",
     "output_type": "stream",
     "text": [
      "C:\\Users\\bnugn\\AppData\\Local\\Temp\\ipykernel_1168\\2468737981.py:15: DtypeWarning: Columns (179,180,182,183,189,190,193,194,197,198,203,204,205,206,218,219,220,233,234,235,236,237,238,248,249,253,254,255,260,262,263,283,284,301) have mixed types. Specify dtype option on import or set low_memory=False.\n",
      "  df = pd.read_csv('./pbp_csv/play_by_play_2021.csv')\n"
     ]
    },
    {
     "name": "stdout",
     "output_type": "stream",
     "text": [
      "   play_id          game_id  old_game_id home_team away_team season_type  \\\n",
      "0        1  2021_01_ARI_TEN   2021091207       TEN       ARI         REG   \n",
      "1       40  2021_01_ARI_TEN   2021091207       TEN       ARI         REG   \n",
      "2       55  2021_01_ARI_TEN   2021091207       TEN       ARI         REG   \n",
      "3       76  2021_01_ARI_TEN   2021091207       TEN       ARI         REG   \n",
      "4      100  2021_01_ARI_TEN   2021091207       TEN       ARI         REG   \n",
      "\n",
      "   week posteam posteam_type defteam  ... out_of_bounds  home_opening_kickoff  \\\n",
      "0     1     NaN          NaN     NaN  ...             0                     1   \n",
      "1     1     TEN         home     ARI  ...             0                     1   \n",
      "2     1     TEN         home     ARI  ...             0                     1   \n",
      "3     1     TEN         home     ARI  ...             0                     1   \n",
      "4     1     TEN         home     ARI  ...             0                     1   \n",
      "\n",
      "     qb_epa  xyac_epa  xyac_mean_yardage  xyac_median_yardage xyac_success  \\\n",
      "0  0.000000       NaN                NaN                  NaN          NaN   \n",
      "1  0.000000       NaN                NaN                  NaN          NaN   \n",
      "2 -1.399805       NaN                NaN                  NaN          NaN   \n",
      "3  0.032412  1.165133           5.803177                  4.0     0.896654   \n",
      "4 -1.532898  0.256036           4.147637                  2.0     0.965009   \n",
      "\n",
      "    xyac_fd     xpass    pass_oe  \n",
      "0       NaN       NaN        NaN  \n",
      "1       NaN       NaN        NaN  \n",
      "2       NaN  0.491433 -49.143299  \n",
      "3  0.125098  0.697346  30.265415  \n",
      "4  0.965009  0.978253   2.174652  \n",
      "\n",
      "[5 rows x 372 columns]\n",
      "             play_id         game_id   old_game_id home_team away_team  \\\n",
      "count   50712.000000           50712  5.071200e+04     50712     50712   \n",
      "unique           NaN             285           NaN        32        32   \n",
      "top              NaN  2021_18_LAC_LV           NaN        KC        SF   \n",
      "freq             NaN             228           NaN      2151      2096   \n",
      "mean     2118.418402             NaN  2.021248e+09       NaN       NaN   \n",
      "std      1236.269555             NaN  3.283146e+05       NaN       NaN   \n",
      "min         1.000000             NaN  2.021091e+09       NaN       NaN   \n",
      "25%      1056.000000             NaN  2.021101e+09       NaN       NaN   \n",
      "50%      2100.000000             NaN  2.021111e+09       NaN       NaN   \n",
      "75%      3158.000000             NaN  2.021122e+09       NaN       NaN   \n",
      "max      5332.000000             NaN  2.022021e+09       NaN       NaN   \n",
      "\n",
      "       season_type          week posteam posteam_type defteam  ...  \\\n",
      "count        50712  50712.000000   46898        46898   46898  ...   \n",
      "unique           2           NaN      32            2      32  ...   \n",
      "top            REG           NaN      KC         home     CIN  ...   \n",
      "freq         48414           NaN    1709        23610    1756  ...   \n",
      "mean           NaN      9.919210     NaN          NaN     NaN  ...   \n",
      "std            NaN      5.610929     NaN          NaN     NaN  ...   \n",
      "min            NaN      1.000000     NaN          NaN     NaN  ...   \n",
      "25%            NaN      5.000000     NaN          NaN     NaN  ...   \n",
      "50%            NaN     10.000000     NaN          NaN     NaN  ...   \n",
      "75%            NaN     15.000000     NaN          NaN     NaN  ...   \n",
      "max            NaN     22.000000     NaN          NaN     NaN  ...   \n",
      "\n",
      "       out_of_bounds  home_opening_kickoff        qb_epa      xyac_epa  \\\n",
      "count   50712.000000          50712.000000  50142.000000  17725.000000   \n",
      "unique           NaN                   NaN           NaN           NaN   \n",
      "top              NaN                   NaN           NaN           NaN   \n",
      "freq             NaN                   NaN           NaN           NaN   \n",
      "mean        0.087060              0.549830     -0.002181      0.730202   \n",
      "std         0.281926              0.497516      1.234038      0.528469   \n",
      "min         0.000000              0.000000    -12.135754     -0.688394   \n",
      "25%         0.000000              0.000000     -0.548907      0.329849   \n",
      "50%         0.000000              1.000000      0.000000      0.610594   \n",
      "75%         0.000000              1.000000      0.505228      0.983448   \n",
      "max         1.000000              1.000000      8.227220      8.448553   \n",
      "\n",
      "        xyac_mean_yardage  xyac_median_yardage  xyac_success       xyac_fd  \\\n",
      "count        17725.000000         17725.000000  17725.000000  17725.000000   \n",
      "unique                NaN                  NaN           NaN           NaN   \n",
      "top                   NaN                  NaN           NaN           NaN   \n",
      "freq                  NaN                  NaN           NaN           NaN   \n",
      "mean             5.434444             3.616643      0.778514      0.577996   \n",
      "std              2.479685             2.481142      0.249969      0.354048   \n",
      "min              0.460723             0.000000      0.017248      0.008024   \n",
      "25%              3.716752             2.000000      0.561739      0.241946   \n",
      "50%              4.610923             3.000000      0.982414      0.478504   \n",
      "75%              6.822153             5.000000      1.000000      0.999072   \n",
      "max             23.904970            30.000000      1.000000      1.000000   \n",
      "\n",
      "               xpass       pass_oe  \n",
      "count   38146.000000  37145.000000  \n",
      "unique           NaN           NaN  \n",
      "top              NaN           NaN  \n",
      "freq             NaN           NaN  \n",
      "mean        0.626535     -0.488770  \n",
      "std         0.240582     42.139172  \n",
      "min         0.015919    -99.050117  \n",
      "25%         0.455448    -41.666850  \n",
      "50%         0.599410      4.316813  \n",
      "75%         0.854542     34.050989  \n",
      "max         0.996815     95.043118  \n",
      "\n",
      "[11 rows x 372 columns]\n",
      "play_id                    0\n",
      "game_id                    0\n",
      "old_game_id                0\n",
      "home_team                  0\n",
      "away_team                  0\n",
      "                       ...  \n",
      "xyac_median_yardage    32987\n",
      "xyac_success           32987\n",
      "xyac_fd                32987\n",
      "xpass                  12566\n",
      "pass_oe                13567\n",
      "Length: 372, dtype: int64\n"
     ]
    }
   ],
   "source": [
    "# # loop through the play by play csv files\n",
    "# for i in range(1999, 2023):\n",
    "#     # open the csv file for the year (i is the year)\n",
    "#     with open(f'./pbp_csv/play_by_play_{i}.csv', 'r') as f:\n",
    "#         reader = csv.reader(f)\n",
    "#         # make pbp_pkl folder before running, if it doesn't exist\n",
    "#         try:\n",
    "#             os.makedirs(f'./pbp_pkl')\n",
    "#         except:\n",
    "#             pass\n",
    "#         # create the pickle file for the year, and dump the csv data into it. Store it in pbp_pkl folder\n",
    "#         pickle.dump(list(reader), open(f'./pbp_pkl/play_by_play_{i}.pkl', 'wb'))\n",
    "\n",
    "# Load the data\n",
    "df = pd.read_csv('./pbp_csv/play_by_play_2021.csv')\n",
    "\n",
    "# Display the first few rows of the dataframe\n",
    "print(df.head())\n",
    "\n",
    "# Summary statistics for each column\n",
    "print(df.describe(include='all'))\n",
    "\n",
    "# Check for missing values\n",
    "print('-------------------------------------')\n",
    "print(df.isnull().sum())\n",
    "\n",
    "# Drop the 'play_id' column\n",
    "df.drop('play_id', axis=1, inplace=True)\n"
   ]
  },
  {
   "cell_type": "markdown",
   "metadata": {},
   "source": [
    "Next, gather data on team ratings by season from "
   ]
  }
 ],
 "metadata": {
  "kernelspec": {
   "display_name": "Python 3.10.4 64-bit",
   "language": "python",
   "name": "python3"
  },
  "language_info": {
   "codemirror_mode": {
    "name": "ipython",
    "version": 3
   },
   "file_extension": ".py",
   "mimetype": "text/x-python",
   "name": "python",
   "nbconvert_exporter": "python",
   "pygments_lexer": "ipython3",
   "version": "3.10.4"
  },
  "orig_nbformat": 4,
  "vscode": {
   "interpreter": {
    "hash": "369f2c481f4da34e4445cda3fffd2e751bd1c4d706f27375911949ba6bb62e1c"
   }
  }
 },
 "nbformat": 4,
 "nbformat_minor": 2
}
