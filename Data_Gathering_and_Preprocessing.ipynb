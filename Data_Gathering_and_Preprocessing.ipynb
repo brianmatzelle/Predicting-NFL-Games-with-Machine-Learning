{
 "cells": [
  {
   "cell_type": "markdown",
   "metadata": {},
   "source": [
    "# Data Gathering and Pre-processing\n",
    "\n",
    "Import the required libraries..."
   ]
  },
  {
   "cell_type": "code",
   "execution_count": 1,
   "metadata": {},
   "outputs": [],
   "source": [
    "import csv\n",
    "import pickle\n",
    "import os"
   ]
  },
  {
   "cell_type": "markdown",
   "metadata": {},
   "source": [
    "## Gathering\n",
    "\n",
    "NFL play by play data found [here](https://github.com/nflverse/nflverse-data/releases/tag/pbp). In this cell we will convert the csv files to pkl files, so they're easier to work with. This part may take a while, as the csv files are pretty big."
   ]
  },
  {
   "cell_type": "code",
   "execution_count": 2,
   "metadata": {},
   "outputs": [],
   "source": [
    "# loop through the play by play csv files\n",
    "for i in range(1999, 2023):\n",
    "    # open the csv file for the year (i is the year)\n",
    "    with open(f'./pbp_csv/play_by_play_{i}.csv', 'r') as f:\n",
    "        reader = csv.reader(f)\n",
    "        # make pbp_pkl folder before running, if it doesn't exist\n",
    "        try:\n",
    "            os.makedirs(f'./pbp_pkl')\n",
    "        except:\n",
    "            pass\n",
    "        # create the pickle file for the year, and dump the csv data into it. Store it in pbp_pkl folder\n",
    "        pickle.dump(list(reader), open(f'./pbp_pkl/play_by_play_{i}.pkl', 'wb'))"
   ]
  },
  {
   "cell_type": "markdown",
   "metadata": {},
   "source": [
    "Next, gather data on team ratings by season from "
   ]
  }
 ],
 "metadata": {
  "kernelspec": {
   "display_name": "Python 3.10.4 64-bit",
   "language": "python",
   "name": "python3"
  },
  "language_info": {
   "codemirror_mode": {
    "name": "ipython",
    "version": 3
   },
   "file_extension": ".py",
   "mimetype": "text/x-python",
   "name": "python",
   "nbconvert_exporter": "python",
   "pygments_lexer": "ipython3",
   "version": "3.10.4"
  },
  "orig_nbformat": 4,
  "vscode": {
   "interpreter": {
    "hash": "369f2c481f4da34e4445cda3fffd2e751bd1c4d706f27375911949ba6bb62e1c"
   }
  }
 },
 "nbformat": 4,
 "nbformat_minor": 2
}
