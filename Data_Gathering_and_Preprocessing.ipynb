{
 "cells": [
  {
   "attachments": {},
   "cell_type": "markdown",
   "metadata": {},
   "source": [
    "# Data Gathering and Pre-processing\n",
    "\n",
    "Import the required libraries..."
   ]
  },
  {
   "cell_type": "code",
   "execution_count": 13,
   "metadata": {},
   "outputs": [],
   "source": [
    "import csv\n",
    "import pickle\n",
    "import os\n",
    "import pandas as pd\n",
    "import numpy as np\n",
    "import nfl_data_py as nfl"
   ]
  },
  {
   "attachments": {},
   "cell_type": "markdown",
   "metadata": {},
   "source": [
    "## Gathering\n",
    "\n",
    "NFL play by play data found [here](https://github.com/nflverse/nflverse-data/releases/tag/pbp). In this cell we will convert the csv files to pkl files, so they're easier to work with. This part may take a while, as the csv files are pretty big."
   ]
  },
  {
   "cell_type": "code",
   "execution_count": 20,
   "metadata": {},
   "outputs": [],
   "source": [
    "all_seasons = []\n",
    "# loop through the play by play csv files\n",
    "for i in range(1999, 2023):\n",
    "    # open the csv file for the year (i is the year)\n",
    "    with open(f'./pbp_csv/play_by_play_{i}.csv', 'r') as f:\n",
    "        reader = csv.reader(f)\n",
    "\n",
    "        all_games = []\n",
    "        game = []\n",
    "        # loop through the rows of the csv\n",
    "        for row in reader:\n",
    "            # skip the first row\n",
    "            if row[0] == 'play_id':\n",
    "                continue\n",
    "            # skip the rows that are not plays\n",
    "            if row[27] == 'GAME':\n",
    "                continue\n",
    "            # add the row to the game's dataframe, until the 'desc' column contains END GAME\n",
    "            # desc is in column AB, which is index 27\n",
    "            if row[27] == 'END GAME':\n",
    "                # add game to the list of dataframes and clear the game dataframe\n",
    "                all_games.append(game)\n",
    "                game = []\n",
    "                continue\n",
    "            else:\n",
    "                # add the row to the game list\n",
    "                game.append(row)\n",
    "        \n",
    "        all_seasons.append(all_games)\n",
    "\n",
    "# print the last season to a txt file to check\n",
    "with open('2022_list.txt', 'w') as f:\n",
    "    for game in all_seasons[-1]:\n",
    "        for play in game:\n",
    "            f.write(str(play) + '\\n')\n",
    "        f.write('\\n')\n",
    "\n",
    "# loop through every game and make them dataframes\n",
    "for season in all_seasons:\n",
    "    for game in season:\n",
    "        game = pd.DataFrame(game)\n",
    "        # drop the columns that are not needed\n",
    "        # NOT SURE IF THIS WORKS BECAUSE WE SKIPPED THE FIRST ROW\n",
    "        # game.drop(columns=['game_id', 'desc'])\n",
    "\n",
    "# save the last season to a txt file to check\n",
    "with open('2022_df.txt', 'w') as f:\n",
    "    for game in all_seasons[-1]:\n",
    "        for play in game:\n",
    "            f.write(str(play) + '\\n')\n",
    "        f.write('\\n')"
   ]
  },
  {
   "attachments": {},
   "cell_type": "markdown",
   "metadata": {},
   "source": [
    "Next, gather data on team ratings by season from "
   ]
  }
 ],
 "metadata": {
  "kernelspec": {
   "display_name": "nfl",
   "language": "python",
   "name": "nfl"
  },
  "language_info": {
   "codemirror_mode": {
    "name": "ipython",
    "version": 3
   },
   "file_extension": ".py",
   "mimetype": "text/x-python",
   "name": "python",
   "nbconvert_exporter": "python",
   "pygments_lexer": "ipython3",
   "version": "3.9.6"
  }
 },
 "nbformat": 4,
 "nbformat_minor": 2
}
